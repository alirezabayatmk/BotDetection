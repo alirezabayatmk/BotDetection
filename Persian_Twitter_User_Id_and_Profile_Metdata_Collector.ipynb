{
  "nbformat": 4,
  "nbformat_minor": 0,
  "metadata": {
    "colab": {
      "name": "Persian Twitter User Id and Profile Metdata Collector.ipynb",
      "provenance": [],
      "authorship_tag": "ABX9TyNbAudcjgdIImNADQFwUpHw",
      "include_colab_link": true
    },
    "kernelspec": {
      "name": "python3",
      "display_name": "Python 3"
    },
    "language_info": {
      "name": "python"
    }
  },
  "cells": [
    {
      "cell_type": "markdown",
      "metadata": {
        "id": "view-in-github",
        "colab_type": "text"
      },
      "source": [
        "<a href=\"https://colab.research.google.com/github/alirezabayatmk/BotDetection/blob/master/Persian_Twitter_User_Id_and_Profile_Metdata_Collector.ipynb\" target=\"_parent\"><img src=\"https://colab.research.google.com/assets/colab-badge.svg\" alt=\"Open In Colab\"/></a>"
      ]
    },
    {
      "cell_type": "code",
      "metadata": {
        "id": "-8OjIFtTJWdq",
        "colab": {
          "base_uri": "https://localhost:8080/"
        },
        "outputId": "a5229267-51ff-4709-8d12-9ea66f856d7e"
      },
      "source": [
        "from google.colab import drive\n",
        "drive.mount('/content/drive')"
      ],
      "execution_count": 1,
      "outputs": [
        {
          "output_type": "stream",
          "name": "stdout",
          "text": [
            "Drive already mounted at /content/drive; to attempt to forcibly remount, call drive.mount(\"/content/drive\", force_remount=True).\n"
          ]
        }
      ]
    },
    {
      "cell_type": "code",
      "metadata": {
        "id": "1XvGkxu23G3K"
      },
      "source": [
        "import tweepy as tw\n",
        "\n",
        "consumer_key= 'sTY4g4zYoTuFknWBOtuPG8o2c'\n",
        "consumer_secret= 'Js4hhoPmTTCmo7EfNCu0IbQTX1K5BGk3I8zwZqEpVxWHiuOm2Y'\n",
        "access_token= '903348660695699458-4E7zV2CTovFUzmHCXMzfZES7fyrxPLF'\n",
        "access_token_secret= 'DavX53h1a0TbP6rPKPzivV1hjLY45xqVQvksBp9UJz9f2'\n",
        "\n",
        "auth = tw.OAuthHandler(consumer_key, consumer_secret)\n",
        "auth.set_access_token(access_token, access_token_secret)\n",
        "api = tw.API(auth, wait_on_rate_limit=True,wait_on_rate_limit_notify=True)"
      ],
      "execution_count": 2,
      "outputs": []
    },
    {
      "cell_type": "code",
      "metadata": {
        "colab": {
          "base_uri": "https://localhost:8080/"
        },
        "id": "RnZ16baJ315t",
        "outputId": "47c5d748-1b89-44f6-cf8c-582af498a06c"
      },
      "source": [
        "!pwd"
      ],
      "execution_count": 3,
      "outputs": [
        {
          "output_type": "stream",
          "name": "stdout",
          "text": [
            "/content\n"
          ]
        }
      ]
    },
    {
      "cell_type": "code",
      "metadata": {
        "id": "N5tQ6Ouu6ULu"
      },
      "source": [
        "# screen_name = 'Khamenei_fa'\n",
        "# ids = []\n",
        "# for fid in tw.Cursor(api.followers_ids, screen_name=screen_name, count=5000,stringify_ids=True).items():\n",
        "#     ids.append(fid)"
      ],
      "execution_count": 3,
      "outputs": []
    },
    {
      "cell_type": "code",
      "metadata": {
        "id": "1FPM-0QE6hDk"
      },
      "source": [
        "# screen_name = 'briennakh'\n",
        "# ids = []\n",
        "# for fid in Cursor(api.followers_ids, screen_name=screen_name, count=5000).items():\n",
        "#     ids.append(fid)"
      ],
      "execution_count": 2,
      "outputs": []
    },
    {
      "cell_type": "code",
      "metadata": {
        "id": "Ux4b2Y3zdCeP"
      },
      "source": [
        "import time \n",
        "import random\n",
        "\n",
        "with open('famous_twitter.txt','r') as f:\n",
        "  content = f.readlines()\n",
        "  screen_name = [i.strip() for i in content]\n",
        "  \n",
        "all_users = []\n",
        "\n",
        "# for id in random.sample(screen_name, 50):\n",
        "for id in screen_name:\n",
        "  all_users.append(id)\n",
        "  print('crawling {} followers ...'.format(str(id)))\n",
        "  print('number of followers: {}'.format(str(api.lookup_users(screen_name=str(id))[0]._json['followers_count'])))\n",
        "  print('minimum number of rounds to crawl all: {}'.format(int(api.lookup_users(screen_name=str(id))[0]._json['followers_count'])//5000))\n",
        "  ids = []\n",
        "  for fid in tw.Cursor(api.followers_ids, screen_name=id, count=5000,stringify_ids=True).items():\n",
        "    if len(ids) == 5000:\n",
        "      print('sleeping ...')\n",
        "      time.sleep(60)\n",
        "      # break\n",
        "    else:\n",
        "      ids.append(fid)\n",
        "      \n",
        "  all_users.extend(ids)\n",
        "  print('number of total users collected: {}'.format(len(all_users)))\n",
        "  print('number of unique users collected: {}'.format(len(set(all_users))))\n",
        "  print('*****************************')"
      ],
      "execution_count": null,
      "outputs": []
    },
    {
      "cell_type": "code",
      "metadata": {
        "id": "WrjJid8w4r8M"
      },
      "source": [
        "import pickle\n",
        "\n",
        "with open('followers_full.pkl', 'wb') as f:\n",
        "  pickle.dump(all_users, f)"
      ],
      "execution_count": 9,
      "outputs": []
    },
    {
      "cell_type": "code",
      "metadata": {
        "id": "CRpGtZTp5YSm"
      },
      "source": [
        "!cp followers_full.pkl /content/drive/MyDrive/new_bot_detection"
      ],
      "execution_count": 10,
      "outputs": []
    },
    {
      "cell_type": "code",
      "metadata": {
        "id": "UaDZ40UqhDN-"
      },
      "source": [
        "import pickle\n",
        "\n",
        "with open('/content/drive/MyDrive/new_bot_detection/followers_full.pkl', 'rb') as f:\n",
        "  all_users_list = pickle.load(f)\n",
        "\n",
        "all_users = list(set(all_users_list))"
      ],
      "execution_count": 8,
      "outputs": []
    },
    {
      "cell_type": "code",
      "metadata": {
        "id": "yyTuiO2kgw5G",
        "colab": {
          "base_uri": "https://localhost:8080/"
        },
        "outputId": "242a2949-d895-45ad-ef42-3c5365ffd1dd"
      },
      "source": [
        "from tqdm import tqdm\n",
        "\n",
        "info = []\n",
        "for i in tqdm(range(0, len(all_users), 100)):\n",
        "    try:\n",
        "        chunk = all_users[i:i+100]\n",
        "        info.extend(api.lookup_users(user_ids=chunk))\n",
        "    except:\n",
        "        # import traceback\n",
        "        # traceback.print_exc()\n",
        "        print('something went wrong, skipping ...')"
      ],
      "execution_count": 9,
      "outputs": [
        {
          "output_type": "stream",
          "name": "stderr",
          "text": [
            "100%|██████████| 2981/2981 [1:09:18<00:00,  1.39s/it]\n"
          ]
        }
      ]
    },
    {
      "cell_type": "code",
      "metadata": {
        "id": "fNuJDI9t6m9s"
      },
      "source": [
        "import pickle\n",
        "\n",
        "with open('info_full.pkl', 'wb') as f:\n",
        "  pickle.dump(info, f)"
      ],
      "execution_count": 10,
      "outputs": []
    },
    {
      "cell_type": "code",
      "metadata": {
        "id": "KPus_7gH6nvG"
      },
      "source": [
        "!cp info_full.pkl /content/drive/MyDrive/new_bot_detection"
      ],
      "execution_count": 11,
      "outputs": []
    },
    {
      "cell_type": "code",
      "metadata": {
        "id": "NDNkgrrw7EcE"
      },
      "source": [
        "import pandas as pd\n",
        "\n",
        "data = [x._json for x in info]\n",
        "data_text = []\n",
        "data_lang = []\n",
        "for i in data:\n",
        "  if i.get('status'):\n",
        "    data_text.append(i.get('status')['text'])\n",
        "    data_lang.append(i.get('status')['lang'])\n",
        "  else:\n",
        "    data_text.append(None)\n",
        "    data_lang.append(None)\n",
        "\n",
        "\n",
        "df = pd.DataFrame(data)\n",
        "df = df[['id_str', 'name', 'screen_name', 'description', 'url', 'location', 'verified', 'protected', 'geo_enabled', 'created_at', 'followers_count', 'friends_count', 'listed_count','favourites_count', 'statuses_count','default_profile', 'default_profile_image']]\n",
        "df['last_tweet'] = data_text\n",
        "df['last_tweet_lang'] = data_lang\n",
        "df.to_csv('users_full.csv', index=False)"
      ],
      "execution_count": 12,
      "outputs": []
    },
    {
      "cell_type": "code",
      "metadata": {
        "colab": {
          "base_uri": "https://localhost:8080/",
          "height": 964
        },
        "id": "kyRo4G0x7VNz",
        "outputId": "602f6ab5-06ff-49f4-a0da-ebb27f297831"
      },
      "source": [
        "df"
      ],
      "execution_count": 13,
      "outputs": [
        {
          "output_type": "execute_result",
          "data": {
            "text/html": [
              "<div>\n",
              "<style scoped>\n",
              "    .dataframe tbody tr th:only-of-type {\n",
              "        vertical-align: middle;\n",
              "    }\n",
              "\n",
              "    .dataframe tbody tr th {\n",
              "        vertical-align: top;\n",
              "    }\n",
              "\n",
              "    .dataframe thead th {\n",
              "        text-align: right;\n",
              "    }\n",
              "</style>\n",
              "<table border=\"1\" class=\"dataframe\">\n",
              "  <thead>\n",
              "    <tr style=\"text-align: right;\">\n",
              "      <th></th>\n",
              "      <th>id_str</th>\n",
              "      <th>name</th>\n",
              "      <th>screen_name</th>\n",
              "      <th>description</th>\n",
              "      <th>url</th>\n",
              "      <th>location</th>\n",
              "      <th>verified</th>\n",
              "      <th>protected</th>\n",
              "      <th>geo_enabled</th>\n",
              "      <th>created_at</th>\n",
              "      <th>followers_count</th>\n",
              "      <th>friends_count</th>\n",
              "      <th>listed_count</th>\n",
              "      <th>favourites_count</th>\n",
              "      <th>statuses_count</th>\n",
              "      <th>default_profile</th>\n",
              "      <th>default_profile_image</th>\n",
              "      <th>last_tweet</th>\n",
              "      <th>last_tweet_lang</th>\n",
              "    </tr>\n",
              "  </thead>\n",
              "  <tbody>\n",
              "    <tr>\n",
              "      <th>0</th>\n",
              "      <td>927213933710147590</td>\n",
              "      <td>haji</td>\n",
              "      <td>haj_mostafa_j</td>\n",
              "      <td>Chera solh!!!!! Mage jangidan cheshe????</td>\n",
              "      <td>None</td>\n",
              "      <td>Islamic Republic of Iran</td>\n",
              "      <td>False</td>\n",
              "      <td>False</td>\n",
              "      <td>False</td>\n",
              "      <td>Sun Nov 05 16:40:03 +0000 2017</td>\n",
              "      <td>4</td>\n",
              "      <td>73</td>\n",
              "      <td>0</td>\n",
              "      <td>4</td>\n",
              "      <td>0</td>\n",
              "      <td>True</td>\n",
              "      <td>False</td>\n",
              "      <td>None</td>\n",
              "      <td>None</td>\n",
              "    </tr>\n",
              "    <tr>\n",
              "      <th>1</th>\n",
              "      <td>1442509683210612745</td>\n",
              "      <td>علیرضا ساکی</td>\n",
              "      <td>hesam618</td>\n",
              "      <td></td>\n",
              "      <td>None</td>\n",
              "      <td></td>\n",
              "      <td>False</td>\n",
              "      <td>False</td>\n",
              "      <td>False</td>\n",
              "      <td>Mon Sep 27 15:21:50 +0000 2021</td>\n",
              "      <td>0</td>\n",
              "      <td>7</td>\n",
              "      <td>0</td>\n",
              "      <td>0</td>\n",
              "      <td>6</td>\n",
              "      <td>True</td>\n",
              "      <td>False</td>\n",
              "      <td>@Amanj_emw 😆😆</td>\n",
              "      <td>und</td>\n",
              "    </tr>\n",
              "    <tr>\n",
              "      <th>2</th>\n",
              "      <td>1291676875295608834</td>\n",
              "      <td>Shitcoin Ventures</td>\n",
              "      <td>Gorgom82219621</td>\n",
              "      <td>nice people</td>\n",
              "      <td>https://t.co/a6Rt8pz71g</td>\n",
              "      <td></td>\n",
              "      <td>False</td>\n",
              "      <td>False</td>\n",
              "      <td>False</td>\n",
              "      <td>Fri Aug 07 10:05:47 +0000 2020</td>\n",
              "      <td>180</td>\n",
              "      <td>474</td>\n",
              "      <td>2</td>\n",
              "      <td>93</td>\n",
              "      <td>826</td>\n",
              "      <td>True</td>\n",
              "      <td>False</td>\n",
              "      <td>RT @fairlaunch_pad: Lets Countdown together De...</td>\n",
              "      <td>en</td>\n",
              "    </tr>\n",
              "    <tr>\n",
              "      <th>3</th>\n",
              "      <td>1162789947692261376</td>\n",
              "      <td>حسین شفیعی</td>\n",
              "      <td>shafiei1985</td>\n",
              "      <td>ماندن در صف اصحاب عاشورایی امام عشق تنها با یق...</td>\n",
              "      <td>None</td>\n",
              "      <td></td>\n",
              "      <td>False</td>\n",
              "      <td>False</td>\n",
              "      <td>False</td>\n",
              "      <td>Sat Aug 17 18:15:51 +0000 2019</td>\n",
              "      <td>190</td>\n",
              "      <td>387</td>\n",
              "      <td>0</td>\n",
              "      <td>17712</td>\n",
              "      <td>1039</td>\n",
              "      <td>True</td>\n",
              "      <td>False</td>\n",
              "      <td>RT @sokhanran1: کاش همین امروز در سفر غیر منتظ...</td>\n",
              "      <td>fa</td>\n",
              "    </tr>\n",
              "    <tr>\n",
              "      <th>4</th>\n",
              "      <td>1442217586087772162</td>\n",
              "      <td>Jani</td>\n",
              "      <td>Jani10788634</td>\n",
              "      <td></td>\n",
              "      <td>None</td>\n",
              "      <td></td>\n",
              "      <td>False</td>\n",
              "      <td>False</td>\n",
              "      <td>False</td>\n",
              "      <td>Sun Sep 26 20:00:53 +0000 2021</td>\n",
              "      <td>0</td>\n",
              "      <td>32</td>\n",
              "      <td>0</td>\n",
              "      <td>1</td>\n",
              "      <td>1</td>\n",
              "      <td>True</td>\n",
              "      <td>True</td>\n",
              "      <td>@c48111891</td>\n",
              "      <td>und</td>\n",
              "    </tr>\n",
              "    <tr>\n",
              "      <th>...</th>\n",
              "      <td>...</td>\n",
              "      <td>...</td>\n",
              "      <td>...</td>\n",
              "      <td>...</td>\n",
              "      <td>...</td>\n",
              "      <td>...</td>\n",
              "      <td>...</td>\n",
              "      <td>...</td>\n",
              "      <td>...</td>\n",
              "      <td>...</td>\n",
              "      <td>...</td>\n",
              "      <td>...</td>\n",
              "      <td>...</td>\n",
              "      <td>...</td>\n",
              "      <td>...</td>\n",
              "      <td>...</td>\n",
              "      <td>...</td>\n",
              "      <td>...</td>\n",
              "      <td>...</td>\n",
              "    </tr>\n",
              "    <tr>\n",
              "      <th>297734</th>\n",
              "      <td>2878441025</td>\n",
              "      <td>esishoonam</td>\n",
              "      <td>EsmaeelFatemi</td>\n",
              "      <td>‏بیخیال همه</td>\n",
              "      <td>None</td>\n",
              "      <td>Tehran</td>\n",
              "      <td>False</td>\n",
              "      <td>False</td>\n",
              "      <td>False</td>\n",
              "      <td>Sat Nov 15 19:32:39 +0000 2014</td>\n",
              "      <td>8</td>\n",
              "      <td>43</td>\n",
              "      <td>0</td>\n",
              "      <td>171</td>\n",
              "      <td>66</td>\n",
              "      <td>False</td>\n",
              "      <td>False</td>\n",
              "      <td>@zedeey فقط بعد شام</td>\n",
              "      <td>ar</td>\n",
              "    </tr>\n",
              "    <tr>\n",
              "      <th>297735</th>\n",
              "      <td>2749496944</td>\n",
              "      <td>majid_khodadad</td>\n",
              "      <td>majid_khodadad</td>\n",
              "      <td></td>\n",
              "      <td>None</td>\n",
              "      <td></td>\n",
              "      <td>False</td>\n",
              "      <td>False</td>\n",
              "      <td>False</td>\n",
              "      <td>Thu Aug 21 20:24:50 +0000 2014</td>\n",
              "      <td>89</td>\n",
              "      <td>588</td>\n",
              "      <td>0</td>\n",
              "      <td>3618</td>\n",
              "      <td>230</td>\n",
              "      <td>True</td>\n",
              "      <td>False</td>\n",
              "      <td>RT @aamin_aajjj: يه نصحيت از اين پير فرزانه به...</td>\n",
              "      <td>fa</td>\n",
              "    </tr>\n",
              "    <tr>\n",
              "      <th>297736</th>\n",
              "      <td>1417785859320029184</td>\n",
              "      <td>Bohlool</td>\n",
              "      <td>Bohlool60094392</td>\n",
              "      <td>My bio!</td>\n",
              "      <td>None</td>\n",
              "      <td></td>\n",
              "      <td>False</td>\n",
              "      <td>False</td>\n",
              "      <td>False</td>\n",
              "      <td>Wed Jul 21 09:58:00 +0000 2021</td>\n",
              "      <td>1</td>\n",
              "      <td>52</td>\n",
              "      <td>0</td>\n",
              "      <td>0</td>\n",
              "      <td>0</td>\n",
              "      <td>True</td>\n",
              "      <td>False</td>\n",
              "      <td>None</td>\n",
              "      <td>None</td>\n",
              "    </tr>\n",
              "    <tr>\n",
              "      <th>297737</th>\n",
              "      <td>1374363267506733057</td>\n",
              "      <td>حسن یزدان</td>\n",
              "      <td>Hassan_Yazdan_3</td>\n",
              "      <td>‏‏(‏‏‏‎‎‎‎‎@Hassan_Yazdan_2 اکانت اول)\\n‏‎آسما...</td>\n",
              "      <td>None</td>\n",
              "      <td></td>\n",
              "      <td>False</td>\n",
              "      <td>False</td>\n",
              "      <td>False</td>\n",
              "      <td>Tue Mar 23 14:12:11 +0000 2021</td>\n",
              "      <td>375</td>\n",
              "      <td>542</td>\n",
              "      <td>0</td>\n",
              "      <td>1087</td>\n",
              "      <td>775</td>\n",
              "      <td>True</td>\n",
              "      <td>False</td>\n",
              "      <td>@Matower93 زبون ریختن😕</td>\n",
              "      <td>fa</td>\n",
              "    </tr>\n",
              "    <tr>\n",
              "      <th>297738</th>\n",
              "      <td>736208670523052033</td>\n",
              "      <td>Sulaiman</td>\n",
              "      <td>SulaimanOwerdi</td>\n",
              "      <td>A son, a husband, a father and a working man</td>\n",
              "      <td>None</td>\n",
              "      <td>Al Jabriya, Kuwait</td>\n",
              "      <td>False</td>\n",
              "      <td>True</td>\n",
              "      <td>False</td>\n",
              "      <td>Fri May 27 14:53:20 +0000 2016</td>\n",
              "      <td>24</td>\n",
              "      <td>387</td>\n",
              "      <td>0</td>\n",
              "      <td>63</td>\n",
              "      <td>122</td>\n",
              "      <td>True</td>\n",
              "      <td>False</td>\n",
              "      <td>None</td>\n",
              "      <td>None</td>\n",
              "    </tr>\n",
              "  </tbody>\n",
              "</table>\n",
              "<p>297739 rows × 19 columns</p>\n",
              "</div>"
            ],
            "text/plain": [
              "                     id_str  ... last_tweet_lang\n",
              "0        927213933710147590  ...            None\n",
              "1       1442509683210612745  ...             und\n",
              "2       1291676875295608834  ...              en\n",
              "3       1162789947692261376  ...              fa\n",
              "4       1442217586087772162  ...             und\n",
              "...                     ...  ...             ...\n",
              "297734           2878441025  ...              ar\n",
              "297735           2749496944  ...              fa\n",
              "297736  1417785859320029184  ...            None\n",
              "297737  1374363267506733057  ...              fa\n",
              "297738   736208670523052033  ...            None\n",
              "\n",
              "[297739 rows x 19 columns]"
            ]
          },
          "metadata": {},
          "execution_count": 13
        }
      ]
    },
    {
      "cell_type": "code",
      "metadata": {
        "id": "6hzAlMzO6rk8"
      },
      "source": [
        "!cp users_full.csv /content/drive/MyDrive/new_bot_detection"
      ],
      "execution_count": 14,
      "outputs": []
    },
    {
      "cell_type": "code",
      "metadata": {
        "id": "7e3P6pkPzbR9"
      },
      "source": [
        "import shutil\n",
        "\n",
        "shutil.copy(\"users_full.csv\", \"/content/drive/MyDrive/new_bot_detection\")"
      ],
      "execution_count": null,
      "outputs": []
    },
    {
      "cell_type": "code",
      "metadata": {
        "id": "1PGkIESn7Haa"
      },
      "source": [
        ""
      ],
      "execution_count": null,
      "outputs": []
    }
  ]
}