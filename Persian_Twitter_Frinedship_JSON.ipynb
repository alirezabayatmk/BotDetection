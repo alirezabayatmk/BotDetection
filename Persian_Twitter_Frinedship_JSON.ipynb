{
  "nbformat": 4,
  "nbformat_minor": 0,
  "metadata": {
    "colab": {
      "name": "Persian Twitter Frinedship JSON.ipynb",
      "provenance": [],
      "authorship_tag": "ABX9TyOB+I0NyJCrYIB8Zd/yfKYh",
      "include_colab_link": true
    },
    "kernelspec": {
      "name": "python3",
      "display_name": "Python 3"
    },
    "language_info": {
      "name": "python"
    }
  },
  "cells": [
    {
      "cell_type": "markdown",
      "metadata": {
        "id": "view-in-github",
        "colab_type": "text"
      },
      "source": [
        "<a href=\"https://colab.research.google.com/github/alirezabayatmk/BotDetection/blob/master/Persian_Twitter_Frinedship_JSON.ipynb\" target=\"_parent\"><img src=\"https://colab.research.google.com/assets/colab-badge.svg\" alt=\"Open In Colab\"/></a>"
      ]
    },
    {
      "cell_type": "code",
      "metadata": {
        "id": "ch7yVHJhoMrN"
      },
      "source": [
        "import tweepy as tw\n",
        "\n",
        "consumer_key= 'sTY4g4zYoTuFknWBOtuPG8o2c'\n",
        "consumer_secret= 'Js4hhoPmTTCmo7EfNCu0IbQTX1K5BGk3I8zwZqEpVxWHiuOm2Y'\n",
        "access_token= '903348660695699458-4E7zV2CTovFUzmHCXMzfZES7fyrxPLF'\n",
        "access_token_secret= 'DavX53h1a0TbP6rPKPzivV1hjLY45xqVQvksBp9UJz9f2'\n",
        "\n",
        "auth = tw.OAuthHandler(consumer_key, consumer_secret)\n",
        "auth.set_access_token(access_token, access_token_secret)\n",
        "api = tw.API(auth, wait_on_rate_limit=True,wait_on_rate_limit_notify=True)"
      ],
      "execution_count": null,
      "outputs": []
    },
    {
      "cell_type": "code",
      "metadata": {
        "id": "L4MWnGJ5p_j4"
      },
      "source": [
        "keys_to_remove = ['entities','lang','utc_offset','time_zone','contributors_enabled', 'is_translator', 'is_translation_enabled', 'profile_background_color', \n",
        "        'profile_background_image_url', 'profile_background_image_url_https', 'profile_background_tile', 'profile_image_url', 'profile_image_url_https', \n",
        "        'profile_banner_url', 'profile_link_color', 'profile_sidebar_border_color', 'profile_sidebar_fill_color', 'profile_text_color', \n",
        "        'profile_use_background_image', 'has_extended_profile', 'following', 'follow_request_sent', 'notifications', 'translator_type', 'withheld_in_countries','status']\n",
        "\n",
        "for i in api.lookup_users(screen_name='mlhobbyist'):\n",
        "  if i._json['status']:\n",
        "    tweet_text = str(i._json['status']['text'])\n",
        "    tweet_lang = str(i._json['status']['lang'])\n",
        "  \n",
        "  for key in keys_to_remove:\n",
        "    i._json.pop(key)\n",
        "\n",
        "user_meta = i._json\n",
        "user_meta['last_tweet_text']= tweet_text\n",
        "user_meta['last_tweet_lang'] = tweet_lang"
      ],
      "execution_count": null,
      "outputs": []
    },
    {
      "cell_type": "code",
      "metadata": {
        "id": "0ozR0JO6A9KP"
      },
      "source": [
        "import time \n",
        "\n",
        "followers_ids = []\n",
        "following_ids = []\n",
        "\n",
        "for fid in tw.Cursor(api.followers_ids, screen_name=user_meta['screen_name'], count=5000,stringify_ids=True).items():\n",
        "    followers_ids.append(fid)\n",
        "\n",
        "for fid in tw.Cursor(api.friends_ids, screen_name=user_meta['screen_name'], count=5000,stringify_ids=True).items():\n",
        "    following_ids.append(fid)"
      ],
      "execution_count": null,
      "outputs": []
    },
    {
      "cell_type": "code",
      "metadata": {
        "colab": {
          "base_uri": "https://localhost:8080/"
        },
        "id": "rke9KrpgCaNP",
        "outputId": "6fe45446-2bf6-401d-a757-1bf7c8513cab"
      },
      "source": [
        "friendship_object = dict()\n",
        "friendship_object['user'] = user_meta\n",
        "friendship_object['followings'] = following_ids[:3]\n",
        "friendship_object['followers'] = followers_ids[:3]\n",
        "friendship_object"
      ],
      "execution_count": null,
      "outputs": [
        {
          "output_type": "execute_result",
          "data": {
            "text/plain": [
              "{'followers': ['895578653857161216',\n",
              "  '1408793701892116481',\n",
              "  '965905008477835264'],\n",
              " 'followings': ['1369257485144621056',\n",
              "  '1333388502306840582',\n",
              "  '913347337589788672'],\n",
              " 'user': {'created_at': 'Sat Sep 09 18:03:09 +0000 2017',\n",
              "  'default_profile': True,\n",
              "  'default_profile_image': False,\n",
              "  'description': 'PhD EE | ML engineer | Data Scientist | Love a good comedy | Allergic to bigotry and stupidity. I tweet in Persian and English. Blocked by @HicksElahe',\n",
              "  'favourites_count': 31877,\n",
              "  'followers_count': 9570,\n",
              "  'friends_count': 1312,\n",
              "  'geo_enabled': True,\n",
              "  'id': 906578736467779584,\n",
              "  'id_str': '906578736467779584',\n",
              "  'last_tweet_lang': 'und',\n",
              "  'last_tweet_text': '@parhamdbfa https://t.co/0PYhnzX6Mf',\n",
              "  'listed_count': 22,\n",
              "  'location': 'Santa Clara, CA',\n",
              "  'name': 'Dr. Ali Shahed 🇺🇸🇫🇮',\n",
              "  'protected': False,\n",
              "  'screen_name': 'mlhobbyist',\n",
              "  'statuses_count': 16913,\n",
              "  'url': 'https://t.co/4K8gsP6x7j',\n",
              "  'verified': False}}"
            ]
          },
          "metadata": {},
          "execution_count": 87
        }
      ]
    },
    {
      "cell_type": "code",
      "metadata": {
        "id": "5VQDkOl9Dkwm"
      },
      "source": [
        ""
      ],
      "execution_count": null,
      "outputs": []
    }
  ]
}